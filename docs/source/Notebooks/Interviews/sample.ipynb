{
 "cells": [
  {
   "cell_type": "code",
   "execution_count": 68,
   "id": "ab43ceed",
   "metadata": {},
   "outputs": [],
   "source": [
    "%matplotlib inline\n",
    "import pandas as pd\n",
    "import numpy as np\n",
    "import matplotlib.pyplot as plt\n",
    "from sklearn.ensemble import RandomForestRegressor\n",
    "from sklearn.metrics import make_scorer\n",
    "from sklearn.metrics import mean_squared_error"
   ]
  },
  {
   "cell_type": "code",
   "execution_count": 69,
   "id": "3823b3ac",
   "metadata": {},
   "outputs": [],
   "source": [
    "train_df = pd.read_csv('train.csv', low_memory=True)\n",
    "test_df = pd.read_csv('test.csv', low_memory=True)"
   ]
  },
  {
   "cell_type": "code",
   "execution_count": 70,
   "id": "4d0c4e84",
   "metadata": {},
   "outputs": [
    {
     "data": {
      "text/plain": [
       "(2000, 7)"
      ]
     },
     "execution_count": 70,
     "metadata": {},
     "output_type": "execute_result"
    }
   ],
   "source": [
    "train_df.shape"
   ]
  },
  {
   "cell_type": "code",
   "execution_count": 71,
   "id": "ff7ac242",
   "metadata": {},
   "outputs": [
    {
     "data": {
      "text/plain": [
       "(688, 7)"
      ]
     },
     "execution_count": 71,
     "metadata": {},
     "output_type": "execute_result"
    }
   ],
   "source": [
    "test_df.shape"
   ]
  },
  {
   "cell_type": "code",
   "execution_count": 81,
   "id": "a707f8d5",
   "metadata": {},
   "outputs": [
    {
     "data": {
      "text/html": [
       "<div>\n",
       "<style scoped>\n",
       "    .dataframe tbody tr th:only-of-type {\n",
       "        vertical-align: middle;\n",
       "    }\n",
       "\n",
       "    .dataframe tbody tr th {\n",
       "        vertical-align: top;\n",
       "    }\n",
       "\n",
       "    .dataframe thead th {\n",
       "        text-align: right;\n",
       "    }\n",
       "</style>\n",
       "<table border=\"1\" class=\"dataframe\">\n",
       "  <thead>\n",
       "    <tr style=\"text-align: right;\">\n",
       "      <th></th>\n",
       "      <th>rating by external agency_A</th>\n",
       "      <th>rating by external agency_B</th>\n",
       "      <th>rating by external agency_C</th>\n",
       "      <th>rating by external agency_D</th>\n",
       "      <th>sector_a</th>\n",
       "      <th>sector_b</th>\n",
       "      <th>sector_c</th>\n",
       "      <th>sector_d</th>\n",
       "    </tr>\n",
       "  </thead>\n",
       "  <tbody>\n",
       "    <tr>\n",
       "      <th>0</th>\n",
       "      <td>0</td>\n",
       "      <td>0</td>\n",
       "      <td>1</td>\n",
       "      <td>0</td>\n",
       "      <td>0</td>\n",
       "      <td>1</td>\n",
       "      <td>0</td>\n",
       "      <td>0</td>\n",
       "    </tr>\n",
       "    <tr>\n",
       "      <th>1</th>\n",
       "      <td>1</td>\n",
       "      <td>0</td>\n",
       "      <td>0</td>\n",
       "      <td>0</td>\n",
       "      <td>0</td>\n",
       "      <td>0</td>\n",
       "      <td>1</td>\n",
       "      <td>0</td>\n",
       "    </tr>\n",
       "    <tr>\n",
       "      <th>2</th>\n",
       "      <td>1</td>\n",
       "      <td>0</td>\n",
       "      <td>0</td>\n",
       "      <td>0</td>\n",
       "      <td>0</td>\n",
       "      <td>0</td>\n",
       "      <td>1</td>\n",
       "      <td>0</td>\n",
       "    </tr>\n",
       "    <tr>\n",
       "      <th>3</th>\n",
       "      <td>0</td>\n",
       "      <td>1</td>\n",
       "      <td>0</td>\n",
       "      <td>0</td>\n",
       "      <td>0</td>\n",
       "      <td>1</td>\n",
       "      <td>0</td>\n",
       "      <td>0</td>\n",
       "    </tr>\n",
       "    <tr>\n",
       "      <th>4</th>\n",
       "      <td>0</td>\n",
       "      <td>0</td>\n",
       "      <td>1</td>\n",
       "      <td>0</td>\n",
       "      <td>0</td>\n",
       "      <td>0</td>\n",
       "      <td>0</td>\n",
       "      <td>1</td>\n",
       "    </tr>\n",
       "    <tr>\n",
       "      <th>...</th>\n",
       "      <td>...</td>\n",
       "      <td>...</td>\n",
       "      <td>...</td>\n",
       "      <td>...</td>\n",
       "      <td>...</td>\n",
       "      <td>...</td>\n",
       "      <td>...</td>\n",
       "      <td>...</td>\n",
       "    </tr>\n",
       "    <tr>\n",
       "      <th>1995</th>\n",
       "      <td>1</td>\n",
       "      <td>0</td>\n",
       "      <td>0</td>\n",
       "      <td>0</td>\n",
       "      <td>0</td>\n",
       "      <td>0</td>\n",
       "      <td>0</td>\n",
       "      <td>1</td>\n",
       "    </tr>\n",
       "    <tr>\n",
       "      <th>1996</th>\n",
       "      <td>0</td>\n",
       "      <td>1</td>\n",
       "      <td>0</td>\n",
       "      <td>0</td>\n",
       "      <td>0</td>\n",
       "      <td>1</td>\n",
       "      <td>0</td>\n",
       "      <td>0</td>\n",
       "    </tr>\n",
       "    <tr>\n",
       "      <th>1997</th>\n",
       "      <td>0</td>\n",
       "      <td>1</td>\n",
       "      <td>0</td>\n",
       "      <td>0</td>\n",
       "      <td>1</td>\n",
       "      <td>0</td>\n",
       "      <td>0</td>\n",
       "      <td>0</td>\n",
       "    </tr>\n",
       "    <tr>\n",
       "      <th>1998</th>\n",
       "      <td>0</td>\n",
       "      <td>1</td>\n",
       "      <td>0</td>\n",
       "      <td>0</td>\n",
       "      <td>0</td>\n",
       "      <td>0</td>\n",
       "      <td>1</td>\n",
       "      <td>0</td>\n",
       "    </tr>\n",
       "    <tr>\n",
       "      <th>1999</th>\n",
       "      <td>0</td>\n",
       "      <td>1</td>\n",
       "      <td>0</td>\n",
       "      <td>0</td>\n",
       "      <td>0</td>\n",
       "      <td>0</td>\n",
       "      <td>1</td>\n",
       "      <td>0</td>\n",
       "    </tr>\n",
       "  </tbody>\n",
       "</table>\n",
       "<p>2000 rows × 8 columns</p>\n",
       "</div>"
      ],
      "text/plain": [
       "      rating by external agency_A  rating by external agency_B  \\\n",
       "0                               0                            0   \n",
       "1                               1                            0   \n",
       "2                               1                            0   \n",
       "3                               0                            1   \n",
       "4                               0                            0   \n",
       "...                           ...                          ...   \n",
       "1995                            1                            0   \n",
       "1996                            0                            1   \n",
       "1997                            0                            1   \n",
       "1998                            0                            1   \n",
       "1999                            0                            1   \n",
       "\n",
       "      rating by external agency_C  rating by external agency_D  sector_a  \\\n",
       "0                               1                            0         0   \n",
       "1                               0                            0         0   \n",
       "2                               0                            0         0   \n",
       "3                               0                            0         0   \n",
       "4                               1                            0         0   \n",
       "...                           ...                          ...       ...   \n",
       "1995                            0                            0         0   \n",
       "1996                            0                            0         0   \n",
       "1997                            0                            0         1   \n",
       "1998                            0                            0         0   \n",
       "1999                            0                            0         0   \n",
       "\n",
       "      sector_b  sector_c  sector_d  \n",
       "0            1         0         0  \n",
       "1            0         1         0  \n",
       "2            0         1         0  \n",
       "3            1         0         0  \n",
       "4            0         0         1  \n",
       "...        ...       ...       ...  \n",
       "1995         0         0         1  \n",
       "1996         1         0         0  \n",
       "1997         0         0         0  \n",
       "1998         0         1         0  \n",
       "1999         0         1         0  \n",
       "\n",
       "[2000 rows x 8 columns]"
      ]
     },
     "metadata": {},
     "output_type": "display_data"
    },
    {
     "name": "stdout",
     "output_type": "stream",
     "text": [
      "['rating by external agency_A', 'rating by external agency_B', 'rating by external agency_C', 'rating by external agency_D', 'sector_a', 'sector_b', 'sector_c', 'sector_d']\n"
     ]
    }
   ],
   "source": [
    "features = [\n",
    "#    'company_id', \n",
    "    'rating by external agency', \n",
    "    'moving_avg_churn_rate',\n",
    "    'users', \n",
    "    'current_revenue', \n",
    "    'sector'\n",
    "]\n",
    "numerical_columns = ['moving_avg_churn_rate',\n",
    "    'users', \n",
    "    'current_revenue']\n",
    "categorical_columns = ['rating by external agency', 'sector']\n",
    "\n",
    "# # Getting columns along with catergorical columns. \n",
    "train_num_df = train_df[numerical_columns]\n",
    "train_cat_df=pd.get_dummies(train_df[categorical_columns])\n",
    "display(train_cat_df)\n",
    "new_features = list(train_cat_df.columns)\n",
    "print(new_features)\n",
    "\n",
    "# # Removing the compnay ID is a good idea because it is not a good predictor.\n",
    "# new_features.remove('company_id')\n",
    "# # new_features = list(train_cat_df.columns)\n",
    "# print(new_features)\n",
    "# train_df = train_cat_df.copy()\n",
    "# test_df = test_cat_df.copy()"
   ]
  },
  {
   "cell_type": "code",
   "execution_count": 73,
   "id": "cc5ffa7f",
   "metadata": {},
   "outputs": [],
   "source": [
    "target = ['future_revenue']"
   ]
  },
  {
   "cell_type": "code",
   "execution_count": 74,
   "id": "4479908b",
   "metadata": {},
   "outputs": [],
   "source": [
    "x_train, y_train = train_df[features], train_df[target]\n",
    "x_test, y_test = test_df[features], test_df[target]"
   ]
  },
  {
   "cell_type": "code",
   "execution_count": 75,
   "id": "5527f5d8",
   "metadata": {},
   "outputs": [],
   "source": [
    "def rmse(y_true,y_pred):\n",
    "    rmse = np.sqrt(mean_squared_error(y_true,y_pred))\n",
    "    print('rmse',rmse)\n",
    "    return rmse"
   ]
  },
  {
   "cell_type": "code",
   "execution_count": 76,
   "id": "6310b163",
   "metadata": {},
   "outputs": [],
   "source": [
    "model = RandomForestRegressor(\n",
    "    random_state=0\n",
    ")"
   ]
  },
  {
   "cell_type": "code",
   "execution_count": 77,
   "id": "410f25c3",
   "metadata": {},
   "outputs": [
    {
     "name": "stderr",
     "output_type": "stream",
     "text": [
      "/home/uncomment/miniconda3/envs/learn_datascience/lib/python3.7/site-packages/ipykernel_launcher.py:1: DataConversionWarning: A column-vector y was passed when a 1d array was expected. Please change the shape of y to (n_samples,), for example using ravel().\n",
      "  \"\"\"Entry point for launching an IPython kernel.\n"
     ]
    },
    {
     "data": {
      "text/plain": [
       "RandomForestRegressor(random_state=0)"
      ]
     },
     "execution_count": 77,
     "metadata": {},
     "output_type": "execute_result"
    }
   ],
   "source": [
    "model.fit(x_train, y_train)"
   ]
  },
  {
   "cell_type": "code",
   "execution_count": 79,
   "id": "59337e45",
   "metadata": {},
   "outputs": [
    {
     "data": {
      "text/plain": [
       "array([ 5764.83,  7959.57,  8930.94,  5027.88,  4185.13,  6012.79,\n",
       "        7187.48,  5930.19,  5969.2 ,  7696.46,  4850.02,  4988.12,\n",
       "        7503.77,  7065.88,  8245.77,  6503.02,  4124.25,  8364.65,\n",
       "        6948.11,  5885.43,  4454.04,  4179.92,  7611.56,  6328.84,\n",
       "        7445.22,  6439.09,  7240.71,  5735.24,  5087.54,  6770.75,\n",
       "        6980.31,  9325.47,  5891.78,  7638.8 ,  7882.7 ,  5687.05,\n",
       "        4474.5 ,  7116.76,  6751.16,  7469.17,  7709.79,  9433.8 ,\n",
       "        6245.99,  8359.47,  4648.3 ,  7151.41,  4759.56,  6553.36,\n",
       "        6180.38,  6152.67,  7309.25,  6930.26,  6140.67,  4686.04,\n",
       "        6050.57,  5147.12,  7049.25,  5957.5 ,  5455.48,  4692.18,\n",
       "        4365.43,  5123.79,  4874.98,  7494.98,  4585.84,  8350.72,\n",
       "        4724.58,  8968.64,  6814.63,  9506.68,  8792.27,  7311.46,\n",
       "        5412.47,  6521.66,  7964.01,  5434.36,  8078.31,  6655.97,\n",
       "        7569.16,  5613.97,  5994.28,  7033.66,  9031.02,  7058.04,\n",
       "        7212.15,  6679.3 ,  7745.93,  5167.62,  3951.97,  5278.15,\n",
       "        8154.22,  5450.87,  8318.03,  6190.94,  6438.38,  6984.89,\n",
       "        8528.79,  8144.37,  5176.04,  7603.1 ,  7096.46,  5977.64,\n",
       "        7307.37,  4982.42,  8562.57,  8003.02,  7167.26,  6830.25,\n",
       "        9097.8 ,  5434.97,  7267.97,  5270.77,  4005.55,  8118.64,\n",
       "        7179.6 ,  7166.76,  5921.87,  7341.71,  5466.88,  6061.03,\n",
       "        7716.91,  7725.92,  3889.16,  4987.78,  4988.3 ,  6562.06,\n",
       "        5981.26,  4397.19,  5520.67,  5746.3 ,  7407.92,  7434.87,\n",
       "        5474.7 ,  7773.78,  8545.99,  5591.13,  6874.29,  6224.37,\n",
       "        6033.24,  8686.61,  9202.17,  9213.35,  7004.17,  7022.81,\n",
       "        6383.41,  4749.31,  5074.15,  4223.22,  6636.22,  3937.01,\n",
       "        8958.02,  7275.92,  8398.95,  4221.37,  8463.92,  5134.7 ,\n",
       "        5440.12,  5733.47,  8162.32,  7800.78,  6087.52,  5923.76,\n",
       "        5997.24,  8360.16,  4991.63,  8142.96,  6561.58,  5309.24,\n",
       "        8377.75,  5806.96,  7940.19,  5700.6 ,  6112.84,  7500.41,\n",
       "        5158.3 , 10211.61,  6778.87,  4444.89,  6912.02,  8071.59,\n",
       "        4533.38,  5555.51,  8644.3 ,  5088.37,  6529.16,  5522.93,\n",
       "        6630.76,  5816.89,  7064.48,  5319.84,  8178.22,  8012.55,\n",
       "        7644.09,  7871.62,  4535.18,  7815.55,  6451.87,  6494.96,\n",
       "        9786.15,  5163.92,  6262.26,  9151.04,  4918.97,  3952.3 ,\n",
       "        4118.28,  8172.99,  6041.85,  4054.45,  8288.11,  7150.25,\n",
       "        4980.85,  4543.19,  4931.73,  8363.07,  9059.06,  7980.83,\n",
       "        9140.77,  5080.27,  5852.12,  6615.27,  7611.11,  6009.63,\n",
       "        5133.95,  4926.48,  9108.92,  6350.21,  6231.43,  6820.54,\n",
       "        4874.27,  5145.11,  7404.3 ,  8070.32,  4660.13,  6692.55,\n",
       "        7982.  ,  3786.53,  6715.64,  7607.46,  4605.49,  4994.7 ,\n",
       "        4416.97,  4748.05,  6124.54,  8021.65,  5731.47,  3835.72,\n",
       "        5785.87,  5220.07,  6090.93,  8133.69,  6703.14,  7514.81,\n",
       "        6860.81,  6562.18,  7748.91,  6903.86,  4733.56,  9086.36,\n",
       "        6734.92,  7440.49,  5446.36,  6993.5 ,  5920.56,  7971.39,\n",
       "        5166.92,  8520.29,  7606.68,  8141.64,  5713.05,  6057.97,\n",
       "        7747.96,  6460.04,  5080.13,  8778.45,  5584.29,  6373.39,\n",
       "        6930.19,  5667.13,  9230.65,  9241.84,  5552.1 ,  5436.29,\n",
       "        7799.28,  6791.53,  6639.05,  5703.23,  6663.44,  6388.44,\n",
       "        7750.58,  5765.49,  6617.3 ,  9515.86,  7864.58,  8537.02,\n",
       "        4143.58,  7130.2 ,  6039.23,  8559.44,  6970.72,  5065.46,\n",
       "        5982.69,  5426.02,  5071.03,  2626.37,  6531.54,  7168.4 ,\n",
       "        7446.08,  5671.18,  9457.32,  6547.58,  7171.86,  6581.56,\n",
       "        6276.04,  8215.89,  5475.  ,  8617.59,  8455.61,  7907.08,\n",
       "        5352.17,  5319.22,  7723.94,  6277.76,  8332.82,  6180.16,\n",
       "        7467.6 ,  6323.96,  9538.14,  8746.97,  7508.86,  5870.64,\n",
       "        8062.37,  5998.83,  7569.14,  6581.21,  6399.69,  3860.57,\n",
       "        5618.71,  6184.43,  5071.56,  5616.92,  8253.45,  6306.56,\n",
       "        6377.63,  8660.95,  4696.37, 10759.85,  4923.09,  9396.42,\n",
       "        4829.98,  7264.83,  6445.05,  4001.22,  9264.11,  5470.52,\n",
       "        5479.15,  8386.29,  5960.03,  8318.62,  4933.65,  6763.85,\n",
       "        7835.54,  6402.07,  5734.16,  6962.95,  5088.62,  8325.37,\n",
       "        7012.  ,  8468.3 ,  3899.23,  8175.18,  8569.43,  6327.67,\n",
       "        5203.52,  9228.12,  7487.32,  8413.88,  6000.27,  4834.09,\n",
       "        4588.19,  9253.64,  7649.04,  7016.18,  5089.91,  8710.15,\n",
       "        4756.82,  6561.93,  5566.3 ,  5823.37,  8778.92,  7714.15,\n",
       "        6092.34,  7271.9 ,  5801.64,  5729.95,  7246.92,  6689.5 ,\n",
       "        6906.04,  5965.48,  6122.97,  4820.59,  5350.95,  7735.45,\n",
       "        3276.73,  6316.53,  5748.71,  7125.25,  7993.69,  8310.59,\n",
       "        6464.75,  7953.43,  4800.71,  9063.16,  7263.45,  5760.33,\n",
       "        8376.83,  5805.06,  7565.12,  8473.02,  7107.27,  5046.29,\n",
       "        5773.36,  7842.83,  5320.16,  5585.63,  6982.14,  7322.68,\n",
       "        5460.64,  5729.24,  8786.87,  7341.93,  6527.99,  6168.4 ,\n",
       "        6671.95,  6860.84,  6631.85,  5916.19,  6968.95,  5672.33,\n",
       "        8745.08,  7717.36,  6997.98,  9130.53,  6197.71,  4744.19,\n",
       "        5126.31,  8009.26,  8996.07,  6663.64,  9056.89,  8338.1 ,\n",
       "        7725.14,  8308.56,  8835.92,  9171.24,  4858.62,  6152.86,\n",
       "        6480.87,  7134.24,  8106.73,  6978.4 ,  7931.99, 10142.45,\n",
       "        6235.53,  6638.78,  5892.84,  6280.74,  7362.84,  4575.78,\n",
       "        8695.08,  7870.97,  5132.67,  8602.75,  8061.49,  3002.13,\n",
       "        6671.77,  3666.69,  7335.83,  9088.48,  5762.19,  5194.9 ,\n",
       "        6372.85,  4569.82,  8452.25,  6111.44,  5366.97,  6566.97,\n",
       "        8893.64,  8647.8 ,  8286.26,  7013.36,  8856.91,  4750.51,\n",
       "        5586.66,  8802.62,  6698.19,  5468.27,  6618.73,  3663.54,\n",
       "        7491.53,  5291.44,  5783.83,  5381.61,  4937.07,  8113.8 ,\n",
       "        4737.51,  4934.02,  5844.99,  7915.28,  6760.05,  6674.93,\n",
       "        6919.26,  7228.83,  8246.36,  7557.4 ,  7433.24,  6475.41,\n",
       "        8017.7 ,  8085.02,  4932.24,  8947.48,  7349.79,  5402.12,\n",
       "        6505.59,  8013.73,  4772.89,  6064.84,  3068.68,  6857.14,\n",
       "        4289.39,  7257.26,  6589.13,  6940.88,  7116.14,  5254.16,\n",
       "        7152.59,  4713.42,  5732.3 ,  7240.94,  5970.3 ,  6221.51,\n",
       "        7946.53,  5185.7 ,  8119.17,  8110.18,  6341.82,  5811.75,\n",
       "        5371.86,  5764.1 ,  6506.39,  6787.32,  5956.25,  7530.65,\n",
       "        5606.12,  6648.09,  6527.38,  4794.84,  5042.15,  9509.16,\n",
       "        7246.57,  7823.87,  7435.56,  5518.27,  5859.38,  5168.63,\n",
       "        6473.06,  6824.04,  4311.55,  6624.7 ,  7418.99,  5500.38,\n",
       "        6775.74,  8272.73,  7670.92,  7181.96,  6486.35,  5574.09,\n",
       "        8260.01,  7127.51,  6848.25,  9239.13,  5667.98,  7632.08,\n",
       "        6024.13,  9045.26,  6856.89,  6453.13,  7015.17,  4916.31,\n",
       "        4537.81,  7359.11,  8769.56,  4406.94,  5169.42,  6921.01,\n",
       "        9217.82,  8827.9 ,  6445.01,  7679.17,  7562.81,  6411.06,\n",
       "        5658.45,  8880.87,  7143.64,  4081.95,  9579.17,  6140.62,\n",
       "        8806.83,  8668.21,  7142.77,  7329.46,  8033.02,  6067.47,\n",
       "        7473.78,  6432.13,  7865.31,  6994.65,  5732.62,  5334.58,\n",
       "        7724.54,  4874.85,  5412.49,  6303.3 ,  5598.74,  7017.88,\n",
       "        6421.07,  5505.58,  8445.25,  6241.99,  4718.75,  6394.06,\n",
       "        8873.19,  5157.79,  6294.41,  6794.71,  7519.81,  9145.91,\n",
       "        6700.97,  7792.97,  7096.16,  5197.17,  8339.5 ,  4943.94,\n",
       "        9854.22,  6206.59,  8546.15,  8604.73,  7327.46,  7615.94,\n",
       "        5016.03,  9999.97,  4037.18,  6126.83,  5964.67,  8271.53,\n",
       "        9255.95,  6624.11,  8322.63,  6816.24,  7436.79,  5971.34,\n",
       "        7121.08,  7580.94,  5781.08,  9475.82,  6346.07,  5427.65,\n",
       "       10518.11,  9298.64,  8321.87,  8395.64,  6455.76,  9200.01,\n",
       "        6012.08,  6042.96,  6890.17,  4202.42,  7105.13,  7552.21,\n",
       "        6177.85,  7374.28,  7750.67,  6892.59,  4973.65,  5920.28,\n",
       "        8733.89,  4168.02,  6652.4 ,  7574.87])"
      ]
     },
     "metadata": {},
     "output_type": "display_data"
    }
   ],
   "source": [
    "y_predict = model.predict(x_test)\n",
    "display(y_predict)"
   ]
  },
  {
   "cell_type": "code",
   "execution_count": 67,
   "id": "ab800a38",
   "metadata": {},
   "outputs": [
    {
     "name": "stdout",
     "output_type": "stream",
     "text": [
      "rmse 2914.650215835697\n"
     ]
    },
    {
     "data": {
      "text/plain": [
       "2914.650215835697"
      ]
     },
     "execution_count": 67,
     "metadata": {},
     "output_type": "execute_result"
    }
   ],
   "source": [
    "rmse(y_test, y_predict)"
   ]
  }
 ],
 "metadata": {
  "kernelspec": {
   "display_name": "Python 3",
   "language": "python",
   "name": "python3"
  },
  "language_info": {
   "codemirror_mode": {
    "name": "ipython",
    "version": 3
   },
   "file_extension": ".py",
   "mimetype": "text/x-python",
   "name": "python",
   "nbconvert_exporter": "python",
   "pygments_lexer": "ipython3",
   "version": "3.7.0"
  }
 },
 "nbformat": 4,
 "nbformat_minor": 5
}
