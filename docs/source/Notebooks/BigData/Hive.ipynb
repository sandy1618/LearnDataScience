{
 "cells": [
  {
   "cell_type": "markdown",
   "metadata": {},
   "source": [
    "# Getting Started with Hive\n",
    "- This article covers the breath of general hive functionality & FAQs. \n",
    "  \n",
    "1. What is Hive? \n",
    "- Hive is SQL like abstraction on top of hadoop.\n",
    "  \n",
    "\n",
    "Managed tables: \n",
    "External tables: Pointer/ reference to another database outside hive. \n",
    "\n",
    "1. What is the internal architecture of Hive? \n",
    "2. How is Hive different that traditional SQL? \n",
    "\n",
    "## FAQs \n",
    "* Limitation of Hive\n",
    "  * Its not full ANSI SQL : It means not all the queries of SQL is supported. But most of them are. \n",
    "  * Fragile? \n",
    "  * Slow ? \n",
    "* Difference between where & having clause? \n",
    "  * Having clause : After Aggregate function. \n",
    "  * Where clause : for filtering , but aggregation not required. \n",
    "  * eg? \n",
    "* Which filtering clause allows wildcard? \n",
    "  * Like \n",
    "* Which Language used by Hive? \n",
    "  * HiveQL\n",
    "* \n",
    "## Hands-On "
   ]
  },
  {
   "cell_type": "markdown",
   "metadata": {},
   "source": [
    "## Rough \n",
    "Semi join is a method in hive. its similar to exists in SQL. \n",
    "That basically is that , we just want to filter data from \n",
    "one table \"a\" based on the \"existance\" of some value & its connection with \n",
    "another table \"b\". Example: \n",
    "SQL:\n",
    "SELECT * FROM a WHERE EXIST(SELECT * FROM b WHERE b.name = a.name)\n",
    "HIVE: \n",
    "SELECT * FROM a LEFT SEMI JOIN b ON b.name = a.name "
   ]
  }
 ],
 "metadata": {
  "language_info": {
   "name": "python"
  },
  "orig_nbformat": 4
 },
 "nbformat": 4,
 "nbformat_minor": 2
}
