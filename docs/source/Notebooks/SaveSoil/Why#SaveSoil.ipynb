{
 "cells": [
  {
   "cell_type": "markdown",
   "metadata": {},
   "source": [
    "# Why #SaveSoil?\n",
    "The #SaveSoil Movement is developing detailed draft policy & technical recommendations for all countries across the world taking into consideration their latitudes (agro-climatic conditions), agriculture traditions, soil types & economic conditions. –Sg \n",
    "@cpsavesoil\n",
    "\n",
    "[Join Conscious Planet](https://consciousplanet.org/ )\n"
   ]
  }
 ],
 "metadata": {
  "language_info": {
   "name": "python"
  },
  "orig_nbformat": 4
 },
 "nbformat": 4,
 "nbformat_minor": 2
}
