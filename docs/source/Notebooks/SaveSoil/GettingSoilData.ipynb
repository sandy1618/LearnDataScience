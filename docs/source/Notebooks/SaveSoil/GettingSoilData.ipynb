{
 "cells": [
  {
   "cell_type": "markdown",
   "metadata": {},
   "source": [
    "# Exploring & Getting Soil Data\n",
    "- ### This Blog is dedicated to very interesting references for getting soil data and learning on the way. \n",
    "\n",
    "> 1. [Soil Health NRCS](https://www.nrcs.usda.gov/wps/portal/nrcs/detailfull/national/soils/health/?cid=nrcs142p2_053869)"
   ]
  },
  {
   "cell_type": "markdown",
   "metadata": {},
   "source": []
  }
 ],
 "metadata": {
  "language_info": {
   "name": "python"
  },
  "orig_nbformat": 4
 },
 "nbformat": 4,
 "nbformat_minor": 2
}
