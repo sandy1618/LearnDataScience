{
 "cells": [
  {
   "cell_type": "markdown",
   "metadata": {},
   "source": [
    "# Reference Tutorial for Learning Basics of Algo-Trading\n",
    "### I will be going through the [TradeOptionsWithMe](https://www.youtube.com/playlist?list=PLtqRgJ_TIq8Y6YG8G-ETIFW_36mvxMLad) to learn basics of strategy making & backtesting. \n"
   ]
  },
  {
   "cell_type": "code",
   "execution_count": null,
   "metadata": {
    "vscode": {
     "languageId": "plaintext"
    }
   },
   "outputs": [],
   "source": [
    "## "
   ]
  }
 ],
 "metadata": {
  "language_info": {
   "name": "python"
  },
  "orig_nbformat": 4
 },
 "nbformat": 4,
 "nbformat_minor": 2
}
